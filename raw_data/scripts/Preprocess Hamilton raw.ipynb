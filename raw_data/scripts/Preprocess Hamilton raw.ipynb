{
 "cells": [
  {
   "cell_type": "code",
   "execution_count": 4,
   "metadata": {},
   "outputs": [],
   "source": [
    "import pandas as pd\n",
    "import re\n",
    "import ast\n",
    "from langdetect import detect\n",
    "import numpy as np"
   ]
  },
  {
   "cell_type": "code",
   "execution_count": 5,
   "metadata": {},
   "outputs": [],
   "source": [
    "df = pd.read_csv('../data/Hamilton_Download.csv')"
   ]
  },
  {
   "cell_type": "markdown",
   "metadata": {},
   "source": [
    "## Clean dataset"
   ]
  },
  {
   "cell_type": "code",
   "execution_count": 6,
   "metadata": {},
   "outputs": [],
   "source": [
    "new_df = pd.DataFrame(columns=['doi','title','abstract','label_included'])\n",
    "new_df['doi'] = df['url']\n",
    "new_df['title'] = df['title']\n",
    "new_df['abstract'] = df['abstract']\n",
    "new_df['label_included'] = df['notes'].apply(lambda x: re.findall(r'\"Included\"|\"Excluded\"', x))\n",
    "new_df['label_included'] = new_df['label_included'].astype(str).str.split(',').str[0].str.strip('[\"\"]').str.strip(\"''\").str.strip('\"\"')\n",
    "new_df['label_included'] = new_df['label_included'].replace({'Included': 1, 'Excluded': 0})"
   ]
  },
  {
   "cell_type": "code",
   "execution_count": 7,
   "metadata": {},
   "outputs": [
    {
     "data": {
      "text/plain": [
       "doi               60\n",
       "title             90\n",
       "abstract          87\n",
       "label_included    90\n",
       "dtype: int64"
      ]
     },
     "execution_count": 7,
     "metadata": {},
     "output_type": "execute_result"
    }
   ],
   "source": [
    "new_df.loc[new_df.label_included == 1].count()"
   ]
  },
  {
   "cell_type": "code",
   "execution_count": 34,
   "metadata": {},
   "outputs": [
    {
     "data": {
      "text/plain": [
       "doi               58\n",
       "title             87\n",
       "abstract          87\n",
       "label_included    87\n",
       "dtype: int64"
      ]
     },
     "execution_count": 34,
     "metadata": {},
     "output_type": "execute_result"
    }
   ],
   "source": [
    "#Remove missing relevant abstracts\n",
    "new_df = new_df.drop(new_df.loc[(new_df['abstract'].isna() & new_df.label_included == 1)].index).reset_index(drop=True)\n",
    "new_df.loc[new_df.label_included == 1].count()"
   ]
  },
  {
   "cell_type": "code",
   "execution_count": 33,
   "metadata": {},
   "outputs": [
    {
     "name": "stdout",
     "output_type": "stream",
     "text": [
      "Total papers: 1859\n",
      "Total included: 87\n",
      "Total excluded: 1772\n"
     ]
    }
   ],
   "source": [
    "print('Total papers:', len(new_df))\n",
    "print('Total included:', new_df.label_included.sum())\n",
    "print('Total excluded:', (len(new_df)-new_df.label_included.sum()))\n",
    "#unlabeled\n",
    "#missing title\n",
    "#missing abstract\n",
    "#duplicates?"
   ]
  },
  {
   "cell_type": "code",
   "execution_count": 13,
   "metadata": {},
   "outputs": [],
   "source": [
    "new_df.to_csv('../../simulations/prior-knowledge-1/data/Hamilton_Original.csv', index=True)\n",
    "new_df.to_csv('../../simulations/prior-knowledge-2/data/Hamilton_Original.csv', index=True)"
   ]
  },
  {
   "cell_type": "markdown",
   "metadata": {},
   "source": [
    "## Check languages"
   ]
  },
  {
   "cell_type": "code",
   "execution_count": 7,
   "metadata": {},
   "outputs": [],
   "source": [
    "langcheck = pd.DataFrame()\n",
    "langcheck[['abstract', 'label']] = new_df[['abstract', 'label_included']].dropna()\n",
    "langcheck['language'] = langcheck['abstract'].apply(detect)"
   ]
  },
  {
   "cell_type": "code",
   "execution_count": 9,
   "metadata": {},
   "outputs": [
    {
     "data": {
      "text/plain": [
       "(array(['ca', 'de', 'el', 'en', 'es', 'fr', 'pt', 'sl', 'tr'], dtype=object),\n",
       " array([   1,   93,    1, 1441,    8,    4,    1,    1,    4], dtype=int64))"
      ]
     },
     "execution_count": 9,
     "metadata": {},
     "output_type": "execute_result"
    }
   ],
   "source": [
    "np.unique(langcheck.loc[(langcheck['label']==1) | (langcheck['label']==0), 'language'], return_counts=True)"
   ]
  },
  {
   "cell_type": "code",
   "execution_count": 10,
   "metadata": {},
   "outputs": [
    {
     "data": {
      "text/plain": [
       "(array(['en', 'es', 'fr', 'tr'], dtype=object),\n",
       " array([84,  1,  1,  1], dtype=int64))"
      ]
     },
     "execution_count": 10,
     "metadata": {},
     "output_type": "execute_result"
    }
   ],
   "source": [
    "np.unique(langcheck.loc[(langcheck['label']==1), 'language'], return_counts=True)"
   ]
  },
  {
   "cell_type": "markdown",
   "metadata": {},
   "source": [
    "ca = catalan (=spanish)\n",
    "de = german\n",
    "el = greek\n",
    "en = english\n",
    "es = spanish\n",
    "fr = french\n",
    "sl = slovenian\n",
    "tr = turkish"
   ]
  },
  {
   "cell_type": "markdown",
   "metadata": {},
   "source": [
    "## English only"
   ]
  },
  {
   "cell_type": "code",
   "execution_count": 15,
   "metadata": {},
   "outputs": [],
   "source": [
    "df_EN = new_df.copy()"
   ]
  },
  {
   "cell_type": "code",
   "execution_count": 16,
   "metadata": {},
   "outputs": [
    {
     "data": {
      "text/plain": [
       "'Music education emerges as a teaching-learning process which contributes to students comprehensive development. The main objective of this work was to analyze the adaptation of the distance educational process in Musical Education, Spanish Language and Literature, Physical Education and Art Education areas in sixth grade of Primary Education, through an interdisciplinary proposal based on the The magic flute opera by WA Mozart. It is based on a mixed approach in which the results obtained through a case study are complemented with descriptive procedures of a quantitative cut. The data analysis showed positive results regarding the participation and satisfaction of the families, students and teachers. Similarly, students obtained optimal levels of content acquisition and key competences. The results of this work corroborate the importance of proposing interdisciplinary projects, as well as the possibilities provided by online teaching in Primary Education in isolation situations, such as those caused by Covid-19.'"
      ]
     },
     "execution_count": 16,
     "metadata": {},
     "output_type": "execute_result"
    }
   ],
   "source": [
    "df_EN.loc[300, 'abstract'] = df_EN.loc[300].abstract.split(\"Alternate abstract: \")[1]\n",
    "df_EN.loc[300].abstract"
   ]
  },
  {
   "cell_type": "code",
   "execution_count": 17,
   "metadata": {},
   "outputs": [
    {
     "data": {
      "text/plain": [
       "'This article results from a study that uses French songs in the teaching of French as a foreign language at a high school level. The aim is to improve listening skills and to introduce French culture by using in the classroom a real and motivating tool. In order to achieve this goal, we have used a corpus of French songs in tandem with worksheets specifically adapted to the content and skills that students are expected to acquire during the course. In this research first we determine the student’s level by means of a pre-test. Then, by giving the students a post-test, we detect possible changes or improvements occurred after applying our teaching method. Finally, we compare our students’ results with the results of another group of students not submitted to this method. Additionally, this article presents a sample of the didactic work done during the research, and represented in the song “C’est de l’eau” performed by the group “Les Enfantastiques.”'"
      ]
     },
     "execution_count": 17,
     "metadata": {},
     "output_type": "execute_result"
    }
   ],
   "source": [
    "df_EN.loc[567, 'abstract'] = df_EN.loc[567].abstract.split(\"Alternate abstract:\")[0]\n",
    "df_EN.loc[567].abstract"
   ]
  },
  {
   "cell_type": "code",
   "execution_count": 18,
   "metadata": {},
   "outputs": [
    {
     "data": {
      "text/plain": [
       "'Abstract     In English language teaching (ELT), teachers and researchers have attempted to make English language learning, especially grammar learning, enjoyable so that students may learn more happily and autonomously. One of the important methods used is to apply songs in English grammar teaching.     This study attempts to explore the effects of TGS in junior high schools. An experimental research is conducted. 133 students from a junior high school in Linfen City, Shanxi Province ---- 66 students in the controlled class (CC) and 67 students in the experimental class (EC), participate in the research. Data is collected via questionnaires and tests      The comparative analysis of the questionnaires indicates that after TGS is used in ELT, 51% of students in EC think that the grammar class is interesting, while in the pre-questionnaire, the percentage of both classes is 0; 84% of students become interested in English learning in EC, which is 40% higher than before, 32% higher than CC; and 46% of students in EC think TGS makes the memorizing of the grammatical rules easier. In addition, the comparative analysis of tests suggests that there is significant difference between EC and CC in the grammar section, especially in regard to the subjective items ----- form-changing and picture-writing, in which the mean score of students from EC is 20.63% and 11.50% higher respectively than that of students from CC.     On the whole, TGS has effects on teaching and learning in junior high schools. However, it is not an independent teaching approach, and is considered as an effective catalyst affiliated with other teaching methods, making ELT more pleasant for both teachers and students.     Keywords:  English songs,  grammar,  TGS,  effects,  memorizing,  productive use'"
      ]
     },
     "execution_count": 18,
     "metadata": {},
     "output_type": "execute_result"
    }
   ],
   "source": [
    "df_EN.loc[741, 'abstract'] = new_df.loc[741].abstract.split(\"Alternate abstract:\")[0]\n",
    "df_EN.loc[741].abstract"
   ]
  },
  {
   "cell_type": "code",
   "execution_count": 19,
   "metadata": {},
   "outputs": [
    {
     "data": {
      "text/plain": [
       "'There is a general consensus among English teachers that music is a useful element in language teaching, and music is often used in language classes. But there is a neglected point; music is a very broad concept and contains dozens of different genres. This study aims to find out whether the effects of different music genres on text recall of students are different. The participants of this study are 112 high school students in a public school in TurkeyIn this research, there are three experimental groups and one control group. While the experimental groups learned a text for one lesson and listened to the same text in the form of a song three times at the end of the lesson, the control group listened to the text as a spoken recording. Each experimental group listened to one of the rock, jazz and reggae versions of the same song. At the end of this application, some words in the text were deleted and given again in the cloze test form and the participants were asked to write the words they remembered. The same procedure was repeated after two weeks. In this way, it was aimed to find out whether the immediate and delayed text recall performances of the participants vary according to the genres of music. In addition, in this study, whether different musical genres trigger the din, also called as involuntary mental rehearsal, to different extents is inquired.When the results were analysed, no significant difference was observed between experimental and control groups in immediate text recall, while a significant difference was observed between rock and other genres in delayed text recall. It was also observed that jazz is significantly less effective than other genres in triggering involuntary mental rehearsal.'"
      ]
     },
     "execution_count": 19,
     "metadata": {},
     "output_type": "execute_result"
    }
   ],
   "source": [
    "df_EN.loc[878, 'abstract'] = df_EN.loc[878].abstract.split(\"Alternate abstract:\")[0]\n",
    "df_EN.loc[878].abstract"
   ]
  },
  {
   "cell_type": "code",
   "execution_count": 20,
   "metadata": {},
   "outputs": [
    {
     "data": {
      "text/plain": [
       "'This interdisciplinary study was launched at a German primary school which teaches English as a foreign language to young learners. In a first part, the study investigates the structural relationships between music and language. It also looks at parallels of learning processes of music and foreign languages learning. In it´s second part the study argues for the research format of action research and mixed-method-research as the appropriate frame for this explorative study. The research questions focus on possibilities of language learning via a musical learning environment and the use of different songs, rhymes and raps. Observations regarding effects on language learning motivation and social relationships are part of the research questions, too. The study describes which material was used in lessons and how it was modified and arranged in certain cases and under different aspects. The study observed primary school classes of 3rd and 4th grades. During a period of four years data was collected from several and different sources and then connected for answering the research questions in the third part. Following the study`s results, a series of needs and skills are outlined at the end to set up a basic conception for teacher training in order to improve the qualification of teachers for a music-oriented approach in teaching English as a foreign language to young learners. (Abstract übernommen).'"
      ]
     },
     "execution_count": 20,
     "metadata": {},
     "output_type": "execute_result"
    }
   ],
   "source": [
    "df_EN.loc[1112, 'abstract'] = df_EN.loc[1112].abstract.split(\".;;;\")[1]\n",
    "df_EN.loc[1112].abstract"
   ]
  },
  {
   "cell_type": "code",
   "execution_count": 21,
   "metadata": {},
   "outputs": [],
   "source": [
    "df_EN.to_csv('../../simulations/prior-knowledge-1/data/Hamilton_English.csv', index=True)\n",
    "df_EN.to_csv('../../simulations/prior-knowledge-2/data/Hamilton_English.csv', index=True)"
   ]
  },
  {
   "cell_type": "markdown",
   "metadata": {},
   "source": [
    "## Non-English-v1"
   ]
  },
  {
   "cell_type": "code",
   "execution_count": 22,
   "metadata": {},
   "outputs": [],
   "source": [
    "df_Multi_1 = new_df.copy()"
   ]
  },
  {
   "cell_type": "code",
   "execution_count": 23,
   "metadata": {},
   "outputs": [
    {
     "data": {
      "text/plain": [
       "'La educación musical emerge como un proceso de enseñanza-aprendizaje que contribuye al desarrollo integral del alumnado. El objetivo principal de este trabajo fue analizar la adaptación del proceso educativo a distancia de las áreas de Educación Musical, Lengua Castellana y Literatura, Educación Física y Educación Plástica en sexto de Educación Primaria, a través de una propuesta interdisciplinar basada en la ópera La flauta mágica de W. A. Mozart. Se parte de un enfoque mixto en el que los resultados obtenidos a través de un estudio de casos se complementan con procedimientos descriptivos de corte cuantitativo. El análisis de datos mostró resultados positivos en cuanto a la participación y satisfacción de las familias, alumnado y profesorado. Del mismo modo, los alumnos obtuvieron niveles óptimos de adquisición de contenidos y de las competencias clave. Los resultados de este trabajo corroboran la importancia de plantear proyectos interdisciplinares, así como de las posibilidades que ofrece la enseñanza online en Educación Primaria en situaciones de aislamiento, como las provocadas por el Covid-19.'"
      ]
     },
     "execution_count": 23,
     "metadata": {},
     "output_type": "execute_result"
    }
   ],
   "source": [
    "df_Multi_1.loc[300, 'abstract'] = df_Multi_1.loc[300].abstract.split(\"Alternate abstract: \")[0]\n",
    "df_Multi_1.loc[300].abstract"
   ]
  },
  {
   "cell_type": "code",
   "execution_count": 24,
   "metadata": {},
   "outputs": [
    {
     "data": {
      "text/plain": [
       "'Este articulo explica los resultados de un estudio que está basado en el uso de la canción francófona\\xa0en la clase de francés lengua extranjera con el alumnado de secundaria para mejorar la competencia de comprensión auditiva e introducir la\\xa0cultura francesa mediante un instrumento vivo, real y motivador. Para ello, usamos un corpus de canciones francófonas, con fichas pedagógicas elaborado y adaptado específicamente al aprendizaje de los contenidos y destrezas que deben adquirir los aprendices en este curso. La investigación consiste al principio en determinar el nivel del alumnado antes\\xa0de la intervención con un pre-test y luego, detectar el cambio producido en esta competencia tras la intervención con un post-test. Además se le pasó un cuestionario al alumnado para que expresase su opinión sobre este método. Al final comparamos este cambio producido en los resultados\\xa0con los resultados de otro grupo no sometido al tratamiento. Por otro lado, presentamos una muestra del trabajo realizado durante las sesiones de la investigación mediante la canción “C’est de l’eau” del grupo “les enfantastiques.”'"
      ]
     },
     "execution_count": 24,
     "metadata": {},
     "output_type": "execute_result"
    }
   ],
   "source": [
    "df_Multi_1.loc[567, 'abstract'] = df_Multi_1.loc[567].abstract.split(\"Alternate abstract:\")[1]\n",
    "df_Multi_1.loc[567].abstract"
   ]
  },
  {
   "cell_type": "code",
   "execution_count": 25,
   "metadata": {},
   "outputs": [
    {
     "data": {
      "text/plain": [
       "'中文摘要     广大英语教师和研究者一直在探索运用各种途径让英语学习，尤其是语法的学习充满乐趣，力图达到使学生快乐、主动地学习的教学目的。将英语歌曲运用于英语语法教学就是其中的方法之一。     本研究采用实验研究法，运用问卷和测试等方法，探讨了歌曲在初中英语语法教学中的作用。山西省临汾市第一中学校的133名初中生参加了实验（实验班67人，对照班66人）。通过对问卷调查的比较分析表明：1）、通过使用TGS，实验班51%的同学认为语法课轻松有趣，而此项纪录在前期问卷中实验班和对照班均为0；2）、实验班84%的学生对英语学习产生了兴趣，比以前高出四十个百分点，比对照班高出三十二个百分点。3）、实验班46%的同学认为通过歌曲学习的语法规则更容易记忆。通过对测试的比较分析表明：在语法方面，形成性测试中，实验班得分略高于对照班，但无显著差异；在终结性测试的语法题目中，实验班得分显著高于对照班；其中，测试记忆情况的单选题的得分实验班高于对照班，但无显著差异；测试运用能力的词形转换和看图写话题目中，实验班得分显著高于对照班，百分比差分别为20.63%和11.50%。      总之，歌曲教语法这种方法有助于初中英语语法教学。然而，运用歌曲教学并不是一种独立的教学方法，它依附于其他的方法而使英语教学得到优化，是英语教学的催化剂。     关键词：英语歌曲，语法，歌曲教语法，作用，记忆，灵活运用'"
      ]
     },
     "execution_count": 25,
     "metadata": {},
     "output_type": "execute_result"
    }
   ],
   "source": [
    "df_Multi_1.loc[741, 'abstract'] = df_Multi_1.loc[741].abstract.split(\"Alternate abstract:\")[1]\n",
    "df_Multi_1.loc[741].abstract"
   ]
  },
  {
   "cell_type": "code",
   "execution_count": 26,
   "metadata": {},
   "outputs": [
    {
     "data": {
      "text/plain": [
       "'İngilizce öğretmenleri arasında müziğin dil öğretiminde faydalı bir unsur olduğuna dair genel bir kanı vardır ve dil sınıflarında müzikten sık sık faydalanılır. Fakat ihmal edilen bir nokta vardır ki; müzik çok geniş bir kavramdır ve içinde onlarca farklı tür barındırır. Bu çalışma farklı müzik türlerinin dil öğretiminde öğrencilerin bir metni hatırlamaları üzerine olan etkilerinin farklı olup olmadığını ortaya çıkarmayı amaçlamaktadır. Bu çalışmanın katılımcıları Türkiye’de bir devlet okulunda öğrenim gören 112 lise öğrencisidirBu araştırmada, üç deney grubu ve bir kontrol grubu yer almaktadır. Deney grupları bir metni bir ders saati boyunca işleyip dersin sonunda aynı metni 3 kere şarkı formunda dinlerken, kontrol grubu metni bir konuşma kaydı olarak dinlemiştir. Her bir deney grubu aynı şarkının rock, jazz ve reggae versiyonlarından birini dinlemiştir. Bu uygulamanın hemen sonunda metin, içindeki bazı kelimeler silinerek, cloze test formunda tekrar verilmiştir ve katılımcılardan hatırladıkları sözcükleri yazmaları istenmiştir. Aynı işlem 2 hafta sonra tekrar edilmiştir. Ve bu sayede katılımcıların kısa süreli ve uzun süreli metin hafızalarının müzik türlerine göre değişiklik gösterip gösterilmediği ortaya çıkarılmaya çalışılmıştır. Ayrıca bu çalışma dâhilinde farklı müzik türlerinin istemsiz zihinsel tekrarlama olarak da adlandırılan çınlama hadisesini farklı düzeylerde tetikleyip tetiklemediği de incelenmiştir.Sonuçlar analiz edildiğinde, metni kısa süreli hatırlamada deney grupları ve kontrol grubu arasında belirgin bir fark gözlenmezken, uzun süreli hatırlamada rock türü ile diğer türler arasında anlamlı bir fark gözlemlenmiştir. Ayrıca istemsiz zihinsel tekrarlamanın tetiklenmesi konusunda jazz türünün diğer türlerden belirgin bir biçimde daha az etkili olduğu gözlemlenmiştir.'"
      ]
     },
     "execution_count": 26,
     "metadata": {},
     "output_type": "execute_result"
    }
   ],
   "source": [
    "df_Multi_1.loc[878, 'abstract'] = df_Multi_1.loc[878].abstract.split(\"Alternate abstract:\")[1]\n",
    "df_Multi_1.loc[878].abstract"
   ]
  },
  {
   "cell_type": "code",
   "execution_count": 27,
   "metadata": {},
   "outputs": [
    {
     "data": {
      "text/plain": [
       "'Die interdisziplinär entworfene Arbeit sucht in einem ersten Teil nach strukturellen Zusammenhängen von Musik und Sprache zunächst in phänomenologischen Felder. Daneben wird das Zusammenspiel von Musik und Sprache in Prozessen des Sprach- und Fremdsprachenlernens untersucht. Die Arbeit beschreibt im zweiten Teil action research und mixed method-Verfahren als die Rahmenkonstituenten dieser explorativen Fallstudie. Ein pool von Forschungsfragen betrifft die Möglichkeiten des Sprachenlernens in einer an Musik orientierten Lernumgebung und den gezielten Einsatz von verschieden konzipierten Liedformen und Reimen oder kleinen Raps. Beobachtungen zu Motivation und Auswirkungen in sozialen Beziehungen sind ebenfalls Teil der Forschungsfragen. Das eingesetzte Unterrichtsmaterial wird vorgestellt und dessen fallweise Bearbeitung unter verschiedenen Aspekten beschrieben. Die Studie beobachtete Grundschulklassen eines 3. und 4. Schuljahres über vier Jahre. In dieser Zeit wurden Daten aus mehreren und verschiedenartigen Quellen erfasst und zur Beantwortung der Forschungsfragen im dritten Teil zusammengeführt. Den Ergebnissen der Studie folgend werden im Abschluss erste Inhalte für eine Konzeption der Lehreraus- und Fortbildung skizziert, mit denen die Qualifikation von Lehrpersonen für ein an Musik orientiertes Arbeiten verbessert werden kann. (Abstract übernommen)'"
      ]
     },
     "execution_count": 27,
     "metadata": {},
     "output_type": "execute_result"
    }
   ],
   "source": [
    "df_Multi_1.loc[1112, 'abstract'] = df_Multi_1.loc[1112].abstract.split(\".;;;\")[0]\n",
    "df_Multi_1.loc[1112].abstract"
   ]
  },
  {
   "cell_type": "code",
   "execution_count": 28,
   "metadata": {},
   "outputs": [],
   "source": [
    "df_Multi_1.to_csv('../../simulations/prior-knowledge-1/data/Hamilton_Multi_1.csv', index=True)\n",
    "df_Multi_1.to_csv('../../simulations/prior-knowledge-2/data/Hamilton_Multi_1.csv', index=True)"
   ]
  },
  {
   "cell_type": "markdown",
   "metadata": {},
   "source": [
    "## Non-English-v2"
   ]
  },
  {
   "cell_type": "code",
   "execution_count": 29,
   "metadata": {},
   "outputs": [],
   "source": [
    "df_Multi_2 = df_Multi_1.copy()"
   ]
  },
  {
   "cell_type": "code",
   "execution_count": 30,
   "metadata": {},
   "outputs": [
    {
     "data": {
      "text/plain": [
       "'Cet article explique les résultats d’une étude basée sur l’utilisation de la chanson française en cours de français langue étrangère aux étudiants de l’enseignement secondaire pour améliorer les compétences de compréhension orale et introduire la culture française à travers un outil vivant, réel et motivant. Pour cette fin, nous utilisons un corpus de chansons avec des fiches pédagogiques adaptées spécialement au contenu et aux compétences d’apprentissage à acquérir par les étudiants. En premier lieu, nous avons déterminé le niveau des étudiants avec un pré-test, puis nous avons détecté le changement qui s’est produit après l’intervention avec en plus un post-test et un questionnaire détaillé adressé aux étudiants. En deuxième lieu, nous avons comparé ce changement dans les résultats de nos étudiants avec les résultats d’un autre groupe non soumis au traitement. D’autre part, nous montrons un échantillon du travail effectué au cours des sessions de recherche représenté dans la chanson « C’est de l’eau » interprété par le groupe « Les Enfantastiques ».'"
      ]
     },
     "execution_count": 30,
     "metadata": {},
     "output_type": "execute_result"
    }
   ],
   "source": [
    "df_Multi_2.loc[567, 'abstract'] = new_df.loc[567].abstract.split(\"Alternate abstract:\")[2]\n",
    "df_Multi_2.loc[567].abstract"
   ]
  },
  {
   "cell_type": "code",
   "execution_count": 32,
   "metadata": {},
   "outputs": [],
   "source": [
    "df_Multi_2.to_csv('../../simulations/prior-knowledge-1/data/Hamilton_Multi_2.csv', index=True)\n",
    "df_Multi_2.to_csv('../../simulations/prior-knowledge-2/data/Hamilton_Multi_2.csv', index=True)"
   ]
  },
  {
   "cell_type": "code",
   "execution_count": null,
   "metadata": {},
   "outputs": [],
   "source": []
  }
 ],
 "metadata": {
  "kernelspec": {
   "display_name": "Python 3",
   "language": "python",
   "name": "python3"
  },
  "language_info": {
   "codemirror_mode": {
    "name": "ipython",
    "version": 3
   },
   "file_extension": ".py",
   "mimetype": "text/x-python",
   "name": "python",
   "nbconvert_exporter": "python",
   "pygments_lexer": "ipython3",
   "version": "3.8.5"
  }
 },
 "nbformat": 4,
 "nbformat_minor": 4
}
